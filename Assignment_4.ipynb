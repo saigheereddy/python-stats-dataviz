{
 "cells": [
  {
   "cell_type": "markdown",
   "metadata": {},
   "source": [
    "# DATA 690- ASSIGNMENT 4"
   ]
  },
  {
   "cell_type": "code",
   "execution_count": 1,
   "metadata": {
    "id": "voXrHBeGK-lt"
   },
   "outputs": [],
   "source": [
    "#Write code to open the text file census_cost.txt and read all lines into a list named \"line_list\". Print line_list.\n",
    "f = open('census_cost.txt') # Open file on read mode\n",
    "line_list = f.read().splitlines() # List with stripped line-breaks\n",
    "f.close()"
   ]
  },
  {
   "cell_type": "code",
   "execution_count": 2,
   "metadata": {
    "colab": {
     "base_uri": "https://localhost:8080/"
    },
    "id": "WjnZfgm_LxN0",
    "outputId": "78f1ee93-4bab-442e-a274-d8ce78ba197b"
   },
   "outputs": [
    {
     "data": {
      "text/plain": [
       "['Source: https://www.genealogybranches.com/censuscosts.html',\n",
       " 'Census Year\\tTotal Population\\tCensus Cost\\tAverage Cost Per Person',\n",
       " '1790\\t3,929,214\\t$44,377\\t1.13 cents',\n",
       " '1800\\t5,308,483\\t$66,109\\t1.24 cents',\n",
       " '1810\\t7,239,881\\t$178,445\\t2.46 cents',\n",
       " '1820\\t9,633,822\\t$208,526\\t2.16 cents',\n",
       " '1830\\t12,866,020\\t$378,545\\t2.94 cents',\n",
       " '1840\\t17,069,458\\t$833,371\\t4.88 cents',\n",
       " '1850\\t23,191,876\\t$1,423,351\\t6.14 cents',\n",
       " '1860\\t31,443,321\\t$1,969,377\\t6.26 cents',\n",
       " '1870\\t38,558,371\\t$3,421,198\\t8.87 cents',\n",
       " '1880\\t50,155,783\\t$5,790,678\\t11.54 cents',\n",
       " '1890\\t62,979,766\\t$11,547,127\\t18.33 cents',\n",
       " '1900\\t76,303,387\\t$11,854,000\\t15.54 cents',\n",
       " '1910\\t91,972,266\\t$15,968,000\\t17.07 cents',\n",
       " '1920\\t105,710,620\\t$25,117,000\\t23.76 cents',\n",
       " '1930\\t122,775,046\\t$40,156,000\\t32.71 cents',\n",
       " '1940\\t131,669,275\\t$67,527,000\\t51.29 cents',\n",
       " '1950\\t151,325,798\\t$91,462,000\\t60.44 cents',\n",
       " '1960\\t179,323,175\\t$127,934,000\\t71.34 cents',\n",
       " '1970\\t203,302,031\\t$247,653,000\\t$1.22',\n",
       " '1980\\t226,542,199\\t$1,078,488,000\\t$4.76',\n",
       " '1990\\t248,718,301\\t$2,492,830,000\\t$10.02',\n",
       " '2000\\t281,421,906\\t$4.5 Billion\\t$15.99',\n",
       " '2010*\\t308,745,538\\t$13 Billion\\t$42.11']"
      ]
     },
     "execution_count": 2,
     "metadata": {},
     "output_type": "execute_result"
    }
   ],
   "source": [
    "line_list"
   ]
  },
  {
   "cell_type": "code",
   "execution_count": 3,
   "metadata": {
    "colab": {
     "base_uri": "https://localhost:8080/"
    },
    "id": "zZlC2H1GMZbM",
    "outputId": "6266a18b-c1f0-4bde-da9d-6daa94214feb"
   },
   "outputs": [
    {
     "data": {
      "text/plain": [
       "['Source: https://www.genealogybranches.com/censuscosts.html',\n",
       " 'Census Year\\tTotal Population\\tCensus Cost\\tAverage Cost Per Person']"
      ]
     },
     "execution_count": 3,
     "metadata": {},
     "output_type": "execute_result"
    }
   ],
   "source": [
    "#Extract the first two lines and put them in a different list named \"top2_list\". You will need to use them later. Print the top2_list.\n",
    "top2_list = line_list[:2]\n",
    "top2_list"
   ]
  },
  {
   "cell_type": "code",
   "execution_count": 4,
   "metadata": {
    "colab": {
     "base_uri": "https://localhost:8080/"
    },
    "id": "rvh1Pws2MjZq",
    "outputId": "df4d9e52-dd1f-41d9-9142-cd9e3be6468a"
   },
   "outputs": [
    {
     "data": {
      "text/plain": [
       "['1790\\t3,929,214\\t$44,377\\t1.13 cents',\n",
       " '1800\\t5,308,483\\t$66,109\\t1.24 cents',\n",
       " '1810\\t7,239,881\\t$178,445\\t2.46 cents',\n",
       " '1820\\t9,633,822\\t$208,526\\t2.16 cents',\n",
       " '1830\\t12,866,020\\t$378,545\\t2.94 cents',\n",
       " '1840\\t17,069,458\\t$833,371\\t4.88 cents',\n",
       " '1850\\t23,191,876\\t$1,423,351\\t6.14 cents',\n",
       " '1860\\t31,443,321\\t$1,969,377\\t6.26 cents',\n",
       " '1870\\t38,558,371\\t$3,421,198\\t8.87 cents',\n",
       " '1880\\t50,155,783\\t$5,790,678\\t11.54 cents',\n",
       " '1890\\t62,979,766\\t$11,547,127\\t18.33 cents',\n",
       " '1900\\t76,303,387\\t$11,854,000\\t15.54 cents',\n",
       " '1910\\t91,972,266\\t$15,968,000\\t17.07 cents',\n",
       " '1920\\t105,710,620\\t$25,117,000\\t23.76 cents',\n",
       " '1930\\t122,775,046\\t$40,156,000\\t32.71 cents',\n",
       " '1940\\t131,669,275\\t$67,527,000\\t51.29 cents',\n",
       " '1950\\t151,325,798\\t$91,462,000\\t60.44 cents',\n",
       " '1960\\t179,323,175\\t$127,934,000\\t71.34 cents',\n",
       " '1970\\t203,302,031\\t$247,653,000\\t$1.22',\n",
       " '1980\\t226,542,199\\t$1,078,488,000\\t$4.76',\n",
       " '1990\\t248,718,301\\t$2,492,830,000\\t$10.02',\n",
       " '2000\\t281,421,906\\t$4.5 Billion\\t$15.99',\n",
       " '2010*\\t308,745,538\\t$13 Billion\\t$42.11']"
      ]
     },
     "execution_count": 4,
     "metadata": {},
     "output_type": "execute_result"
    }
   ],
   "source": [
    "#Put the rest of the lines (containing useful data elements) in a new list named \"data_list\". Print data_list.\n",
    "data_list = line_list[2:]\n",
    "data_list"
   ]
  },
  {
   "cell_type": "code",
   "execution_count": 5,
   "metadata": {
    "colab": {
     "base_uri": "https://localhost:8080/",
     "height": 35
    },
    "id": "AL4AJc1nNZoR",
    "outputId": "5828de4f-aaae-4f0f-8ca1-56c4281e0343"
   },
   "outputs": [
    {
     "data": {
      "text/plain": [
       "'2010'"
      ]
     },
     "execution_count": 5,
     "metadata": {},
     "output_type": "execute_result"
    }
   ],
   "source": [
    "data_list[-1][:4]"
   ]
  },
  {
   "cell_type": "code",
   "execution_count": 6,
   "metadata": {
    "colab": {
     "base_uri": "https://localhost:8080/"
    },
    "id": "M5_sV5jjMr7P",
    "outputId": "426ece98-fa51-4a66-dfff-072a1e8b4b60"
   },
   "outputs": [
    {
     "data": {
      "text/plain": [
       "['1790',\n",
       " '1800',\n",
       " '1810',\n",
       " '1820',\n",
       " '1830',\n",
       " '1840',\n",
       " '1850',\n",
       " '1860',\n",
       " '1870',\n",
       " '1880',\n",
       " '1890',\n",
       " '1900',\n",
       " '1910',\n",
       " '1920',\n",
       " '1930',\n",
       " '1940',\n",
       " '1950',\n",
       " '1960',\n",
       " '1970',\n",
       " '1980',\n",
       " '1990',\n",
       " '2000',\n",
       " '2010']"
      ]
     },
     "execution_count": 6,
     "metadata": {},
     "output_type": "execute_result"
    }
   ],
   "source": [
    "#Extract the column \"Census Year\" from data_list and assign them to a list named year_list. Remove the \"\" from the last element \"2010\". Print the cleansed year_list.\n",
    "year_list = []\n",
    "for i in range(len(data_list)):\n",
    "    year_list.append(data_list[i][:4])\n",
    "year_list"
   ]
  },
  {
   "cell_type": "code",
   "execution_count": 7,
   "metadata": {
    "colab": {
     "base_uri": "https://localhost:8080/"
    },
    "id": "j-DQRr_TNxZF",
    "outputId": "ea973799-eaa0-46ec-b7fa-4cd7ed6bbd72"
   },
   "outputs": [
    {
     "data": {
      "text/plain": [
       "['3929214',\n",
       " '5308483',\n",
       " '7239881',\n",
       " '9633822',\n",
       " '12866020',\n",
       " '17069458',\n",
       " '23191876',\n",
       " '31443321',\n",
       " '38558371',\n",
       " '50155783',\n",
       " '62979766',\n",
       " '76303387',\n",
       " '91972266',\n",
       " '105710620',\n",
       " '122775046',\n",
       " '131669275',\n",
       " '151325798',\n",
       " '179323175',\n",
       " '203302031',\n",
       " '226542199',\n",
       " '248718301',\n",
       " '281421906',\n",
       " '30874553']"
      ]
     },
     "execution_count": 7,
     "metadata": {},
     "output_type": "execute_result"
    }
   ],
   "source": [
    "#Extract the \"Total Population\" column from the data_list and assign them to a list named \"pop_list\". Remove the \",\" from the numbers since Python doesn't recognize them. Print the cleansed \"pop_list\".\n",
    "pop_list = []\n",
    "temp_lst = []\n",
    "for i in range(len(data_list)):\n",
    "    temp_string = data_list[i].replace(\"\\t\", \"    \")\n",
    "    temp_string = temp_string.replace(\",\",\"\")\n",
    "    temp_lst.append(temp_string[8:17])\n",
    "for i in range(len(temp_lst)):\n",
    "    pop_list.append(temp_lst[i].replace(\" \",\"\"))\n",
    "pop_list"
   ]
  },
  {
   "cell_type": "code",
   "execution_count": 8,
   "metadata": {
    "colab": {
     "base_uri": "https://localhost:8080/"
    },
    "id": "PESGHNvVNyra",
    "outputId": "113372f0-5c81-4005-e632-89cac3147d7f"
   },
   "outputs": [
    {
     "data": {
      "text/plain": [
       "['44377',\n",
       " '66109',\n",
       " '178445',\n",
       " '208526',\n",
       " '378545',\n",
       " '833371',\n",
       " '1423351',\n",
       " '1969377',\n",
       " '3421198',\n",
       " '5790678',\n",
       " '11547127',\n",
       " '11854000',\n",
       " '15968000',\n",
       " '25117000',\n",
       " '40156000',\n",
       " '67527000',\n",
       " '91462000',\n",
       " '127934000',\n",
       " '247653000',\n",
       " '1078488000',\n",
       " '2492830000',\n",
       " '4.5000000000',\n",
       " '13000000000']"
      ]
     },
     "execution_count": 8,
     "metadata": {},
     "output_type": "execute_result"
    }
   ],
   "source": [
    "#Extract the \"Census Cost\" column from the data_list and assign them to a list named \"cost_list\". Remove the \",\", and \"$\", and \"Billion\". Make sure to add the \"0\"s to the numbers from which you removed \"Billion\". Print the cleansed cost_list.\n",
    "cost_list = []\n",
    "temp_string=''\n",
    "for i in range(len(data_list)):\n",
    "    temp_string=data_list[i].split('\\t')[2]\n",
    "    temp_string = temp_string.replace(\"$\",\"\")\n",
    "    temp_string = temp_string.replace(\",\",\"\")\n",
    "    temp_string = temp_string.replace(\" Billion\",\"000000000\")\n",
    "    \n",
    "    cost_list.append(temp_string)\n",
    "\n",
    "cost_list"
   ]
  },
  {
   "cell_type": "code",
   "execution_count": 9,
   "metadata": {
    "id": "lOOvfD82TmUq",
    "scrolled": true
   },
   "outputs": [
    {
     "data": {
      "text/plain": [
       "[0.0113,\n",
       " 0.0124,\n",
       " 0.0246,\n",
       " 0.0216,\n",
       " 0.0294,\n",
       " 0.048799999999999996,\n",
       " 0.061399999999999996,\n",
       " 0.0626,\n",
       " 0.08869999999999999,\n",
       " 0.11539999999999999,\n",
       " 0.1833,\n",
       " 0.15539999999999998,\n",
       " 0.1707,\n",
       " 0.2376,\n",
       " 0.3271,\n",
       " 0.5129,\n",
       " 0.6043999999999999,\n",
       " 0.7134,\n",
       " 1.22,\n",
       " 4.76,\n",
       " 10.02,\n",
       " 15.99,\n",
       " 42.11]"
      ]
     },
     "execution_count": 9,
     "metadata": {},
     "output_type": "execute_result"
    }
   ],
   "source": [
    "#Extract the \"Average Cost per Person\" column from the data_list and assign them to a list named \"avg_list\". Remove the \"cents\", and \"$\". Make sure to divide the numbers in cents by 100 so that all numbers are measured in dollar. Print the cleansed avg_list.\n",
    "avg_list = []\n",
    "temp_string=''\n",
    "for i in range(len(data_list)):\n",
    "    temp_string=data_list[i].split('\\t')[3]\n",
    "    temp_string = temp_string.replace(\"$\",\"\")\n",
    "    if ' cents' in temp_string:\n",
    "        temp_string=temp_string.replace(\" cents\",\"\")\n",
    "        l1=float(temp_string)/100\n",
    "        avg_list.append(l1)\n",
    "    else:\n",
    "    \n",
    "        temp_string\n",
    "        avg_list.append(float(temp_string))\n",
    "\n",
    "avg_list"
   ]
  },
  {
   "cell_type": "code",
   "execution_count": 10,
   "metadata": {},
   "outputs": [],
   "source": [
    "a1=top2_list[1].split('\\t')"
   ]
  },
  {
   "cell_type": "code",
   "execution_count": 11,
   "metadata": {},
   "outputs": [],
   "source": [
    "import pandas as pd\n",
    "data=pd.DataFrame(columns =a1)"
   ]
  },
  {
   "cell_type": "code",
   "execution_count": 12,
   "metadata": {},
   "outputs": [],
   "source": [
    "data['Census Year'] = year_list\n",
    "data['Total Population'] = pop_list\n",
    "data['Census Cost']= cost_list\n",
    "data['Average Cost Per Person']= avg_list"
   ]
  },
  {
   "cell_type": "code",
   "execution_count": 13,
   "metadata": {},
   "outputs": [
    {
     "data": {
      "text/html": [
       "<div>\n",
       "<style scoped>\n",
       "    .dataframe tbody tr th:only-of-type {\n",
       "        vertical-align: middle;\n",
       "    }\n",
       "\n",
       "    .dataframe tbody tr th {\n",
       "        vertical-align: top;\n",
       "    }\n",
       "\n",
       "    .dataframe thead th {\n",
       "        text-align: right;\n",
       "    }\n",
       "</style>\n",
       "<table border=\"1\" class=\"dataframe\">\n",
       "  <thead>\n",
       "    <tr style=\"text-align: right;\">\n",
       "      <th></th>\n",
       "      <th>Census Year</th>\n",
       "      <th>Total Population</th>\n",
       "      <th>Census Cost</th>\n",
       "      <th>Average Cost Per Person</th>\n",
       "    </tr>\n",
       "  </thead>\n",
       "  <tbody>\n",
       "    <tr>\n",
       "      <th>0</th>\n",
       "      <td>1790</td>\n",
       "      <td>3929214</td>\n",
       "      <td>44377</td>\n",
       "      <td>0.0113</td>\n",
       "    </tr>\n",
       "    <tr>\n",
       "      <th>1</th>\n",
       "      <td>1800</td>\n",
       "      <td>5308483</td>\n",
       "      <td>66109</td>\n",
       "      <td>0.0124</td>\n",
       "    </tr>\n",
       "    <tr>\n",
       "      <th>2</th>\n",
       "      <td>1810</td>\n",
       "      <td>7239881</td>\n",
       "      <td>178445</td>\n",
       "      <td>0.0246</td>\n",
       "    </tr>\n",
       "    <tr>\n",
       "      <th>3</th>\n",
       "      <td>1820</td>\n",
       "      <td>9633822</td>\n",
       "      <td>208526</td>\n",
       "      <td>0.0216</td>\n",
       "    </tr>\n",
       "    <tr>\n",
       "      <th>4</th>\n",
       "      <td>1830</td>\n",
       "      <td>12866020</td>\n",
       "      <td>378545</td>\n",
       "      <td>0.0294</td>\n",
       "    </tr>\n",
       "    <tr>\n",
       "      <th>5</th>\n",
       "      <td>1840</td>\n",
       "      <td>17069458</td>\n",
       "      <td>833371</td>\n",
       "      <td>0.0488</td>\n",
       "    </tr>\n",
       "    <tr>\n",
       "      <th>6</th>\n",
       "      <td>1850</td>\n",
       "      <td>23191876</td>\n",
       "      <td>1423351</td>\n",
       "      <td>0.0614</td>\n",
       "    </tr>\n",
       "    <tr>\n",
       "      <th>7</th>\n",
       "      <td>1860</td>\n",
       "      <td>31443321</td>\n",
       "      <td>1969377</td>\n",
       "      <td>0.0626</td>\n",
       "    </tr>\n",
       "    <tr>\n",
       "      <th>8</th>\n",
       "      <td>1870</td>\n",
       "      <td>38558371</td>\n",
       "      <td>3421198</td>\n",
       "      <td>0.0887</td>\n",
       "    </tr>\n",
       "    <tr>\n",
       "      <th>9</th>\n",
       "      <td>1880</td>\n",
       "      <td>50155783</td>\n",
       "      <td>5790678</td>\n",
       "      <td>0.1154</td>\n",
       "    </tr>\n",
       "    <tr>\n",
       "      <th>10</th>\n",
       "      <td>1890</td>\n",
       "      <td>62979766</td>\n",
       "      <td>11547127</td>\n",
       "      <td>0.1833</td>\n",
       "    </tr>\n",
       "    <tr>\n",
       "      <th>11</th>\n",
       "      <td>1900</td>\n",
       "      <td>76303387</td>\n",
       "      <td>11854000</td>\n",
       "      <td>0.1554</td>\n",
       "    </tr>\n",
       "    <tr>\n",
       "      <th>12</th>\n",
       "      <td>1910</td>\n",
       "      <td>91972266</td>\n",
       "      <td>15968000</td>\n",
       "      <td>0.1707</td>\n",
       "    </tr>\n",
       "    <tr>\n",
       "      <th>13</th>\n",
       "      <td>1920</td>\n",
       "      <td>105710620</td>\n",
       "      <td>25117000</td>\n",
       "      <td>0.2376</td>\n",
       "    </tr>\n",
       "    <tr>\n",
       "      <th>14</th>\n",
       "      <td>1930</td>\n",
       "      <td>122775046</td>\n",
       "      <td>40156000</td>\n",
       "      <td>0.3271</td>\n",
       "    </tr>\n",
       "    <tr>\n",
       "      <th>15</th>\n",
       "      <td>1940</td>\n",
       "      <td>131669275</td>\n",
       "      <td>67527000</td>\n",
       "      <td>0.5129</td>\n",
       "    </tr>\n",
       "    <tr>\n",
       "      <th>16</th>\n",
       "      <td>1950</td>\n",
       "      <td>151325798</td>\n",
       "      <td>91462000</td>\n",
       "      <td>0.6044</td>\n",
       "    </tr>\n",
       "    <tr>\n",
       "      <th>17</th>\n",
       "      <td>1960</td>\n",
       "      <td>179323175</td>\n",
       "      <td>127934000</td>\n",
       "      <td>0.7134</td>\n",
       "    </tr>\n",
       "    <tr>\n",
       "      <th>18</th>\n",
       "      <td>1970</td>\n",
       "      <td>203302031</td>\n",
       "      <td>247653000</td>\n",
       "      <td>1.2200</td>\n",
       "    </tr>\n",
       "    <tr>\n",
       "      <th>19</th>\n",
       "      <td>1980</td>\n",
       "      <td>226542199</td>\n",
       "      <td>1078488000</td>\n",
       "      <td>4.7600</td>\n",
       "    </tr>\n",
       "    <tr>\n",
       "      <th>20</th>\n",
       "      <td>1990</td>\n",
       "      <td>248718301</td>\n",
       "      <td>2492830000</td>\n",
       "      <td>10.0200</td>\n",
       "    </tr>\n",
       "    <tr>\n",
       "      <th>21</th>\n",
       "      <td>2000</td>\n",
       "      <td>281421906</td>\n",
       "      <td>4.5000000000</td>\n",
       "      <td>15.9900</td>\n",
       "    </tr>\n",
       "    <tr>\n",
       "      <th>22</th>\n",
       "      <td>2010</td>\n",
       "      <td>30874553</td>\n",
       "      <td>13000000000</td>\n",
       "      <td>42.1100</td>\n",
       "    </tr>\n",
       "  </tbody>\n",
       "</table>\n",
       "</div>"
      ],
      "text/plain": [
       "   Census Year Total Population   Census Cost  Average Cost Per Person\n",
       "0         1790          3929214         44377                   0.0113\n",
       "1         1800          5308483         66109                   0.0124\n",
       "2         1810          7239881        178445                   0.0246\n",
       "3         1820          9633822        208526                   0.0216\n",
       "4         1830         12866020        378545                   0.0294\n",
       "5         1840         17069458        833371                   0.0488\n",
       "6         1850         23191876       1423351                   0.0614\n",
       "7         1860         31443321       1969377                   0.0626\n",
       "8         1870         38558371       3421198                   0.0887\n",
       "9         1880         50155783       5790678                   0.1154\n",
       "10        1890         62979766      11547127                   0.1833\n",
       "11        1900         76303387      11854000                   0.1554\n",
       "12        1910         91972266      15968000                   0.1707\n",
       "13        1920        105710620      25117000                   0.2376\n",
       "14        1930        122775046      40156000                   0.3271\n",
       "15        1940        131669275      67527000                   0.5129\n",
       "16        1950        151325798      91462000                   0.6044\n",
       "17        1960        179323175     127934000                   0.7134\n",
       "18        1970        203302031     247653000                   1.2200\n",
       "19        1980        226542199    1078488000                   4.7600\n",
       "20        1990        248718301    2492830000                  10.0200\n",
       "21        2000        281421906  4.5000000000                  15.9900\n",
       "22        2010         30874553   13000000000                  42.1100"
      ]
     },
     "execution_count": 13,
     "metadata": {},
     "output_type": "execute_result"
    }
   ],
   "source": [
    "#Coalesce the cleansed data and save them to a text file named \"census_cost.csv\". The new file should look similar to the original source file except that it is in comma-delimited format and the numbers have been cleansed. The top two lines from the original file should be retained in the new file.\n",
    "data.to_csv('census_cost.csv', index=False)\n",
    "data"
   ]
  },
  {
   "cell_type": "code",
   "execution_count": 14,
   "metadata": {},
   "outputs": [],
   "source": [
    "with open('census_cost.csv') as f:\n",
    "    lines = f.readlines()\n",
    "lines.insert(0,top2_list[0])"
   ]
  },
  {
   "cell_type": "code",
   "execution_count": 15,
   "metadata": {},
   "outputs": [
    {
     "data": {
      "text/plain": [
       "['Source: https://www.genealogybranches.com/censuscosts.html',\n",
       " 'Census Year,Total Population,Census Cost,Average Cost Per Person\\n',\n",
       " '1790,3929214,44377,0.0113\\n',\n",
       " '1800,5308483,66109,0.0124\\n',\n",
       " '1810,7239881,178445,0.0246\\n',\n",
       " '1820,9633822,208526,0.0216\\n',\n",
       " '1830,12866020,378545,0.0294\\n',\n",
       " '1840,17069458,833371,0.048799999999999996\\n',\n",
       " '1850,23191876,1423351,0.061399999999999996\\n',\n",
       " '1860,31443321,1969377,0.0626\\n',\n",
       " '1870,38558371,3421198,0.08869999999999999\\n',\n",
       " '1880,50155783,5790678,0.11539999999999999\\n',\n",
       " '1890,62979766,11547127,0.1833\\n',\n",
       " '1900,76303387,11854000,0.15539999999999998\\n',\n",
       " '1910,91972266,15968000,0.1707\\n',\n",
       " '1920,105710620,25117000,0.2376\\n',\n",
       " '1930,122775046,40156000,0.3271\\n',\n",
       " '1940,131669275,67527000,0.5129\\n',\n",
       " '1950,151325798,91462000,0.6043999999999999\\n',\n",
       " '1960,179323175,127934000,0.7134\\n',\n",
       " '1970,203302031,247653000,1.22\\n',\n",
       " '1980,226542199,1078488000,4.76\\n',\n",
       " '1990,248718301,2492830000,10.02\\n',\n",
       " '2000,281421906,4.5000000000,15.99\\n',\n",
       " '2010,30874553,13000000000,42.11\\n']"
      ]
     },
     "execution_count": 15,
     "metadata": {},
     "output_type": "execute_result"
    }
   ],
   "source": [
    "lines"
   ]
  },
  {
   "cell_type": "code",
   "execution_count": null,
   "metadata": {},
   "outputs": [],
   "source": []
  }
 ],
 "metadata": {
  "colab": {
   "name": "DATA690_Assignment_4.ipynb",
   "provenance": []
  },
  "kernelspec": {
   "display_name": "Python 3",
   "language": "python",
   "name": "python3"
  },
  "language_info": {
   "codemirror_mode": {
    "name": "ipython",
    "version": 3
   },
   "file_extension": ".py",
   "mimetype": "text/x-python",
   "name": "python",
   "nbconvert_exporter": "python",
   "pygments_lexer": "ipython3",
   "version": "3.8.5"
  }
 },
 "nbformat": 4,
 "nbformat_minor": 1
}
